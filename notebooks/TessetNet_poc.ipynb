{
  "nbformat": 4,
  "nbformat_minor": 0,
  "metadata": {
    "colab": {
      "name": "Patgen01.ipynb",
      "provenance": [],
      "collapsed_sections": [],
      "include_colab_link": true
    },
    "kernelspec": {
      "name": "python3",
      "display_name": "Python 3"
    },
    "accelerator": "TPU"
  },
  "cells": [
    {
      "cell_type": "markdown",
      "metadata": {
        "id": "view-in-github",
        "colab_type": "text"
      },
      "source": [
        "<a href=\"https://colab.research.google.com/github/MoltenMuffins/TesselNet/blob/master/TessetNet_poc.ipynb\" target=\"_parent\"><img src=\"https://colab.research.google.com/assets/colab-badge.svg\" alt=\"Open In Colab\"/></a>"
      ]
    },
    {
      "cell_type": "markdown",
      "metadata": {
        "id": "Uq4Vt5Ik8zNR",
        "colab_type": "text"
      },
      "source": [
        "# Step 0: Imports & Boilerplate Functions"
      ]
    },
    {
      "cell_type": "code",
      "metadata": {
        "id": "JKkmbnmvSIKj",
        "colab_type": "code",
        "outputId": "ab394843-5437-4e7f-cbd7-1baa70770e75",
        "colab": {
          "base_uri": "https://localhost:8080/",
          "height": 224
        }
      },
      "source": [
        "# Import example\n",
        "!pip install git+https://github.com/tensorflow/examples.git"
      ],
      "execution_count": 14,
      "outputs": [
        {
          "output_type": "stream",
          "text": [
            "Collecting git+https://github.com/tensorflow/examples.git\n",
            "  Cloning https://github.com/tensorflow/examples.git to /tmp/pip-req-build-uydq9847\n",
            "  Running command git clone -q https://github.com/tensorflow/examples.git /tmp/pip-req-build-uydq9847\n",
            "Requirement already satisfied (use --upgrade to upgrade): tensorflow-examples===9271b121afb9087e4f77abdc8fdf6e1e36b4c7af- from git+https://github.com/tensorflow/examples.git in /usr/local/lib/python3.6/dist-packages\n",
            "Requirement already satisfied: absl-py in /tensorflow-2.0.0/python3.6 (from tensorflow-examples===9271b121afb9087e4f77abdc8fdf6e1e36b4c7af-) (0.8.1)\n",
            "Requirement already satisfied: six in /tensorflow-2.0.0/python3.6 (from tensorflow-examples===9271b121afb9087e4f77abdc8fdf6e1e36b4c7af-) (1.12.0)\n",
            "Building wheels for collected packages: tensorflow-examples\n",
            "  Building wheel for tensorflow-examples (setup.py) ... \u001b[?25l\u001b[?25hdone\n",
            "  Created wheel for tensorflow-examples: filename=tensorflow_examples-9271b121afb9087e4f77abdc8fdf6e1e36b4c7af_-cp36-none-any.whl size=75388 sha256=6e9c26f5cc03b06fa0c2b585d36c6bc71ce002d9954500dd16ae5e23f9f494dd\n",
            "  Stored in directory: /tmp/pip-ephem-wheel-cache-r4my145m/wheels/83/64/b3/4cfa02dc6f9d16bf7257892c6a7ec602cd7e0ff6ec4d7d714d\n",
            "Successfully built tensorflow-examples\n"
          ],
          "name": "stdout"
        }
      ]
    },
    {
      "cell_type": "code",
      "metadata": {
        "id": "smyXouK0bFmE",
        "colab_type": "code",
        "colab": {}
      },
      "source": [
        "%tensorflow_version 2.x\n",
        "import tensorflow as tf\n",
        "import matplotlib.pyplot as plt\n",
        "\n",
        "from __future__ import absolute_import, division, print_function, unicode_literals\n",
        "\n",
        "import tensorflow_datasets as tfds\n",
        "from tensorflow_examples.models.pix2pix import pix2pix\n",
        "\n",
        "import os\n",
        "import time\n",
        "import matplotlib.pyplot as plt\n",
        "from IPython.display import clear_output\n",
        "\n",
        "AUTOTUNE = tf.data.experimental.AUTOTUNE\n",
        "\n",
        "from IPython.display import Image"
      ],
      "execution_count": 0,
      "outputs": []
    },
    {
      "cell_type": "markdown",
      "metadata": {
        "id": "YHKgsuoMbZdQ",
        "colab_type": "text"
      },
      "source": [
        "## Step 1: Train model to perform style transfer\n",
        "Style: Monet\n"
      ]
    },
    {
      "cell_type": "markdown",
      "metadata": {
        "id": "06I44Jnfcqqu",
        "colab_type": "text"
      },
      "source": [
        "## Step 2 (future improvement): Apply Image Segmentation to Sample Image prior to Style Transfer"
      ]
    },
    {
      "cell_type": "code",
      "metadata": {
        "id": "bULQKWs2bf4i",
        "colab_type": "code",
        "colab": {}
      },
      "source": [
        "# FUTURE STUFF"
      ],
      "execution_count": 0,
      "outputs": []
    },
    {
      "cell_type": "markdown",
      "metadata": {
        "id": "fVfeDE6qbijP",
        "colab_type": "text"
      },
      "source": [
        "## Step 3: Perform style transfer on sample image (pineapple)"
      ]
    },
    {
      "cell_type": "code",
      "metadata": {
        "id": "AscaikZVbqfr",
        "colab_type": "code",
        "colab": {
          "base_uri": "https://localhost:8080/",
          "height": 265
        },
        "outputId": "7ad81f72-c0bc-4e4a-ad25-1a973a63aca3"
      },
      "source": [
        "pineapple_url = 'https://unsplash.com/photos/nAOZCYcLND8/download?force=true'\n",
        "!wget -P https://unsplash.com/photos/nAOZCYcLND8/download?force=true\n",
        "Image(pineapple_img)"
      ],
      "execution_count": 23,
      "outputs": [
        {
          "output_type": "stream",
          "text": [
            "wget: missing URL\n",
            "Usage: wget [OPTION]... [URL]...\n",
            "\n",
            "Try `wget --help' for more options.\n"
          ],
          "name": "stdout"
        },
        {
          "output_type": "error",
          "ename": "NameError",
          "evalue": "ignored",
          "traceback": [
            "\u001b[0;31m---------------------------------------------------------------------------\u001b[0m",
            "\u001b[0;31mNameError\u001b[0m                                 Traceback (most recent call last)",
            "\u001b[0;32m<ipython-input-23-940763cb2768>\u001b[0m in \u001b[0;36m<module>\u001b[0;34m()\u001b[0m\n\u001b[1;32m      1\u001b[0m \u001b[0mpineapple_url\u001b[0m \u001b[0;34m=\u001b[0m \u001b[0;34m'https://unsplash.com/photos/nAOZCYcLND8/download?force=true'\u001b[0m\u001b[0;34m\u001b[0m\u001b[0;34m\u001b[0m\u001b[0m\n\u001b[1;32m      2\u001b[0m \u001b[0mget_ipython\u001b[0m\u001b[0;34m(\u001b[0m\u001b[0;34m)\u001b[0m\u001b[0;34m.\u001b[0m\u001b[0msystem\u001b[0m\u001b[0;34m(\u001b[0m\u001b[0;34m\"wget -P 'https://unsplash.com/photos/nAOZCYcLND8/download?force=true'\"\u001b[0m\u001b[0;34m)\u001b[0m\u001b[0;34m\u001b[0m\u001b[0;34m\u001b[0m\u001b[0m\n\u001b[0;32m----> 3\u001b[0;31m \u001b[0mImage\u001b[0m\u001b[0;34m(\u001b[0m\u001b[0mpineapple_img\u001b[0m\u001b[0;34m)\u001b[0m\u001b[0;34m\u001b[0m\u001b[0;34m\u001b[0m\u001b[0m\n\u001b[0m",
            "\u001b[0;31mNameError\u001b[0m: name 'pineapple_img' is not defined"
          ]
        }
      ]
    },
    {
      "cell_type": "code",
      "metadata": {
        "id": "aEBjR829AzJb",
        "colab_type": "code",
        "colab": {}
      },
      "source": [
        "from google.colab import files\n",
        "\n",
        "with open('example.txt', 'w') as f:\n",
        "  f.write('some content')\n",
        "\n",
        "files.download('example.txt')"
      ],
      "execution_count": 0,
      "outputs": []
    },
    {
      "cell_type": "code",
      "metadata": {
        "id": "cVk13Lnic5Fa",
        "colab_type": "code",
        "colab": {}
      },
      "source": [
        ""
      ],
      "execution_count": 0,
      "outputs": []
    },
    {
      "cell_type": "markdown",
      "metadata": {
        "id": "M7fW_t_Sc8Vt",
        "colab_type": "text"
      },
      "source": [
        "## Step 4: Tile image using pattern algo\n"
      ]
    }
  ]
}
